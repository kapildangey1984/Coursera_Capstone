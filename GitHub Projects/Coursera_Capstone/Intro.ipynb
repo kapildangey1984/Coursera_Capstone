{
 "cells": [
  {
   "cell_type": "markdown",
   "metadata": {},
   "source": [
    "<h2> Problem Statement"
   ]
  },
  {
   "cell_type": "markdown",
   "metadata": {},
   "source": [
    "<h4><p>During my recent JOB change i needed to decide between Toronto or New york as my work area. So, i analyzed the population of each city along with \"things to do\" activities in both the places. \n",
    "    This is what i found:\n",
    "    \n",
    "    Queens is a New York City borough on Long Island across the East River from Manhattan. It has a population of about 2.5million people, average age in 30s which is very much suited me. \n",
    "    \n",
    "    On the other hand, Toronto, the capital of the province of Ontario, is a major Canadian city along Lake Ontario’s northwestern shore. It's a dynamic metropolis with a core of soaring skyscrapers, all dwarfed by the iconic, free-standing CN Tower. Toronto also has many green spaces, from the orderly oval of Queen’s Park to 400-acre High Park and its trails, sports facilities and zoo. It also has population of about 3 million and average age group in 40s.\n",
    "    \n",
    "    Now, looking at this i wanted to find set of similarities and dissimilarities between the two cities using the help data already available online within in the First 5 Mile radius.\n",
    "    "
   ]
  },
  {
   "cell_type": "code",
   "execution_count": null,
   "metadata": {},
   "outputs": [],
   "source": []
  }
 ],
 "metadata": {
  "kernelspec": {
   "display_name": "Python",
   "language": "python",
   "name": "conda-env-python-py"
  },
  "language_info": {
   "codemirror_mode": {
    "name": "ipython",
    "version": 3
   },
   "file_extension": ".py",
   "mimetype": "text/x-python",
   "name": "python",
   "nbconvert_exporter": "python",
   "pygments_lexer": "ipython3",
   "version": "3.6.7"
  }
 },
 "nbformat": 4,
 "nbformat_minor": 4
}
