{
 "cells": [
  {
   "cell_type": "code",
   "execution_count": 34,
   "metadata": {},
   "outputs": [],
   "source": [
    "\n",
    "from urllib.request import urlopen\n",
    "from bs4 import BeautifulSoup\n",
    "import pandas as pd\n",
    "import geocoder # import geocoder\n",
    "import types\n",
    "import folium\n",
    "from botocore.client import Config\n",
    "import ibm_boto3\n",
    "import requests\n",
    "from pandas.io.json import json_normalize"
   ]
  },
  {
   "cell_type": "markdown",
   "metadata": {},
   "source": [
    "<h3> Creating DataFrame"
   ]
  },
  {
   "cell_type": "code",
   "execution_count": 3,
   "metadata": {},
   "outputs": [
    {
     "name": "stdout",
     "output_type": "stream",
     "text": [
      "Before Removing Not Assigned: (287, 3)\n",
      "After Removing Not Assigned: (210, 3)\n",
      "Final Shape  (103, 3)\n"
     ]
    },
    {
     "data": {
      "text/html": [
       "<div>\n",
       "<style scoped>\n",
       "    .dataframe tbody tr th:only-of-type {\n",
       "        vertical-align: middle;\n",
       "    }\n",
       "\n",
       "    .dataframe tbody tr th {\n",
       "        vertical-align: top;\n",
       "    }\n",
       "\n",
       "    .dataframe thead th {\n",
       "        text-align: right;\n",
       "    }\n",
       "</style>\n",
       "<table border=\"1\" class=\"dataframe\">\n",
       "  <thead>\n",
       "    <tr style=\"text-align: right;\">\n",
       "      <th></th>\n",
       "      <th>Postcode</th>\n",
       "      <th>Borough</th>\n",
       "      <th>Neighbourhood</th>\n",
       "    </tr>\n",
       "  </thead>\n",
       "  <tbody>\n",
       "    <tr>\n",
       "      <th>0</th>\n",
       "      <td>M1B</td>\n",
       "      <td>Scarborough</td>\n",
       "      <td>Rouge,Malvern</td>\n",
       "    </tr>\n",
       "    <tr>\n",
       "      <th>1</th>\n",
       "      <td>M1C</td>\n",
       "      <td>Scarborough</td>\n",
       "      <td>Highland Creek,Rouge Hill,Port Union</td>\n",
       "    </tr>\n",
       "    <tr>\n",
       "      <th>2</th>\n",
       "      <td>M1E</td>\n",
       "      <td>Scarborough</td>\n",
       "      <td>Guildwood,Morningside,West Hill</td>\n",
       "    </tr>\n",
       "    <tr>\n",
       "      <th>3</th>\n",
       "      <td>M1G</td>\n",
       "      <td>Scarborough</td>\n",
       "      <td>Woburn</td>\n",
       "    </tr>\n",
       "    <tr>\n",
       "      <th>4</th>\n",
       "      <td>M1H</td>\n",
       "      <td>Scarborough</td>\n",
       "      <td>Cedarbrae</td>\n",
       "    </tr>\n",
       "  </tbody>\n",
       "</table>\n",
       "</div>"
      ],
      "text/plain": [
       "  Postcode      Borough                         Neighbourhood\n",
       "0      M1B  Scarborough                         Rouge,Malvern\n",
       "1      M1C  Scarborough  Highland Creek,Rouge Hill,Port Union\n",
       "2      M1E  Scarborough       Guildwood,Morningside,West Hill\n",
       "3      M1G  Scarborough                                Woburn\n",
       "4      M1H  Scarborough                             Cedarbrae"
      ]
     },
     "execution_count": 3,
     "metadata": {},
     "output_type": "execute_result"
    }
   ],
   "source": [
    "url = \"https://en.wikipedia.org/wiki/List_of_postal_codes_of_Canada:_M\"\n",
    "html = urlopen(url)\n",
    "body= BeautifulSoup(html,'lxml')\n",
    "\n",
    "table= body.find_all(\"table\")[0]\n",
    "df = pd.read_html(str(table))[0]\n",
    "print(\"Before Removing Not Assigned:\",df.shape)\n",
    "\n",
    "df=df[df[\"Borough\"]!=\"Not assigned\"].reset_index(drop=True)\n",
    "print(\"After Removing Not Assigned:\",df.shape)\n",
    "idx=df[\"Neighbourhood\"]==\"Not assigned\"\n",
    "\n",
    "df.loc[idx,\"Neighbourhood\"]=df[\"Borough\"]\n",
    "\n",
    "# print(\"Value which got replaced\\n:\",df[df[\"Neighbourhood\"]==\"Not Assigned\"])\n",
    "\n",
    "df_grp=df.groupby(by=[\"Postcode\",\"Borough\"])[\"Neighbourhood\"].apply(','.join).reset_index()\n",
    "print(\"Final Shape \",df_grp.shape)\n",
    "df_grp.head()"
   ]
  },
  {
   "cell_type": "markdown",
   "metadata": {},
   "source": [
    "<h3> Adding Longitude and Latitude in the DataFrame"
   ]
  },
  {
   "cell_type": "code",
   "execution_count": 5,
   "metadata": {},
   "outputs": [
    {
     "name": "stdout",
     "output_type": "stream",
     "text": [
      "Shape of the dataframe: (103, 5)\n"
     ]
    },
    {
     "data": {
      "text/html": [
       "<div>\n",
       "<style scoped>\n",
       "    .dataframe tbody tr th:only-of-type {\n",
       "        vertical-align: middle;\n",
       "    }\n",
       "\n",
       "    .dataframe tbody tr th {\n",
       "        vertical-align: top;\n",
       "    }\n",
       "\n",
       "    .dataframe thead th {\n",
       "        text-align: right;\n",
       "    }\n",
       "</style>\n",
       "<table border=\"1\" class=\"dataframe\">\n",
       "  <thead>\n",
       "    <tr style=\"text-align: right;\">\n",
       "      <th></th>\n",
       "      <th>Postcode</th>\n",
       "      <th>Borough</th>\n",
       "      <th>Neighbourhood</th>\n",
       "      <th>Latitude</th>\n",
       "      <th>Longitude</th>\n",
       "    </tr>\n",
       "  </thead>\n",
       "  <tbody>\n",
       "    <tr>\n",
       "      <th>0</th>\n",
       "      <td>M1B</td>\n",
       "      <td>Scarborough</td>\n",
       "      <td>Rouge,Malvern</td>\n",
       "      <td>43.806686</td>\n",
       "      <td>-79.194353</td>\n",
       "    </tr>\n",
       "    <tr>\n",
       "      <th>1</th>\n",
       "      <td>M1C</td>\n",
       "      <td>Scarborough</td>\n",
       "      <td>Highland Creek,Rouge Hill,Port Union</td>\n",
       "      <td>43.784535</td>\n",
       "      <td>-79.160497</td>\n",
       "    </tr>\n",
       "    <tr>\n",
       "      <th>2</th>\n",
       "      <td>M1E</td>\n",
       "      <td>Scarborough</td>\n",
       "      <td>Guildwood,Morningside,West Hill</td>\n",
       "      <td>43.763573</td>\n",
       "      <td>-79.188711</td>\n",
       "    </tr>\n",
       "    <tr>\n",
       "      <th>3</th>\n",
       "      <td>M1G</td>\n",
       "      <td>Scarborough</td>\n",
       "      <td>Woburn</td>\n",
       "      <td>43.770992</td>\n",
       "      <td>-79.216917</td>\n",
       "    </tr>\n",
       "    <tr>\n",
       "      <th>4</th>\n",
       "      <td>M1H</td>\n",
       "      <td>Scarborough</td>\n",
       "      <td>Cedarbrae</td>\n",
       "      <td>43.773136</td>\n",
       "      <td>-79.239476</td>\n",
       "    </tr>\n",
       "  </tbody>\n",
       "</table>\n",
       "</div>"
      ],
      "text/plain": [
       "  Postcode      Borough                         Neighbourhood   Latitude  \\\n",
       "0      M1B  Scarborough                         Rouge,Malvern  43.806686   \n",
       "1      M1C  Scarborough  Highland Creek,Rouge Hill,Port Union  43.784535   \n",
       "2      M1E  Scarborough       Guildwood,Morningside,West Hill  43.763573   \n",
       "3      M1G  Scarborough                                Woburn  43.770992   \n",
       "4      M1H  Scarborough                             Cedarbrae  43.773136   \n",
       "\n",
       "   Longitude  \n",
       "0 -79.194353  \n",
       "1 -79.160497  \n",
       "2 -79.188711  \n",
       "3 -79.216917  \n",
       "4 -79.239476  "
      ]
     },
     "execution_count": 5,
     "metadata": {},
     "output_type": "execute_result"
    }
   ],
   "source": [
    "def __iter__(self): return 0\n",
    "\n",
    "# @hidden_cell\n",
    "# The following code accesses a file in your IBM Cloud Object Storage. It includes your credentials.\n",
    "# You might want to remove those credentials before you share the notebook.\n",
    "client_d13087807b0347c2a99293bfd1b8c452 = ibm_boto3.client(service_name='s3',\n",
    "    ibm_api_key_id='e2fSUi8dL3FGZYHlHjQ-s0A5p9ZkG9k5yq5eDQbk6OyK',\n",
    "    ibm_auth_endpoint=\"https://iam.ng.bluemix.net/oidc/token\",\n",
    "    config=Config(signature_version='oauth'),\n",
    "    endpoint_url='https://s3-api.us-geo.objectstorage.service.networklayer.com')\n",
    "\n",
    "body = client_d13087807b0347c2a99293bfd1b8c452.get_object(Bucket='dataclustering-donotdelete-pr-vtlj4gybkeelhm',Key='Geospatial_Coordinates.csv')['Body']\n",
    "# add missing __iter__ method, so pandas accepts body as file-like object\n",
    "if not hasattr(body, \"__iter__\"): body.__iter__ = types.MethodType( __iter__, body )\n",
    "\n",
    "# If you are reading an Excel file into a pandas DataFrame, replace `read_csv` by `read_excel` in the next statement.\n",
    "df_data_0 = pd.read_csv(body)\n",
    "df_data_0.head()\n",
    "\n",
    "\n",
    "df_new=pd.merge(df_grp,df_data_0,how=\"inner\",left_on=\"Postcode\", right_on=\"Postal Code\")\n",
    "df_new.drop(columns=\"Postal Code\",inplace=True)\n",
    "print(\"Shape of the dataframe:\",df_new.shape)\n",
    "df_new.head()\n"
   ]
  },
  {
   "cell_type": "markdown",
   "metadata": {},
   "source": [
    "<h3> DataFrame with rows only for Toronto values"
   ]
  },
  {
   "cell_type": "code",
   "execution_count": 20,
   "metadata": {},
   "outputs": [
    {
     "data": {
      "text/html": [
       "<div>\n",
       "<style scoped>\n",
       "    .dataframe tbody tr th:only-of-type {\n",
       "        vertical-align: middle;\n",
       "    }\n",
       "\n",
       "    .dataframe tbody tr th {\n",
       "        vertical-align: top;\n",
       "    }\n",
       "\n",
       "    .dataframe thead th {\n",
       "        text-align: right;\n",
       "    }\n",
       "</style>\n",
       "<table border=\"1\" class=\"dataframe\">\n",
       "  <thead>\n",
       "    <tr style=\"text-align: right;\">\n",
       "      <th></th>\n",
       "      <th>Postcode</th>\n",
       "      <th>Borough</th>\n",
       "      <th>Neighbourhood</th>\n",
       "      <th>Latitude</th>\n",
       "      <th>Longitude</th>\n",
       "    </tr>\n",
       "  </thead>\n",
       "  <tbody>\n",
       "    <tr>\n",
       "      <th>0</th>\n",
       "      <td>M4E</td>\n",
       "      <td>East Toronto</td>\n",
       "      <td>The Beaches</td>\n",
       "      <td>43.676357</td>\n",
       "      <td>-79.293031</td>\n",
       "    </tr>\n",
       "    <tr>\n",
       "      <th>1</th>\n",
       "      <td>M4K</td>\n",
       "      <td>East Toronto</td>\n",
       "      <td>The Danforth West,Riverdale</td>\n",
       "      <td>43.679557</td>\n",
       "      <td>-79.352188</td>\n",
       "    </tr>\n",
       "    <tr>\n",
       "      <th>2</th>\n",
       "      <td>M4L</td>\n",
       "      <td>East Toronto</td>\n",
       "      <td>The Beaches West,India Bazaar</td>\n",
       "      <td>43.668999</td>\n",
       "      <td>-79.315572</td>\n",
       "    </tr>\n",
       "    <tr>\n",
       "      <th>3</th>\n",
       "      <td>M4M</td>\n",
       "      <td>East Toronto</td>\n",
       "      <td>Studio District</td>\n",
       "      <td>43.659526</td>\n",
       "      <td>-79.340923</td>\n",
       "    </tr>\n",
       "    <tr>\n",
       "      <th>4</th>\n",
       "      <td>M4N</td>\n",
       "      <td>Central Toronto</td>\n",
       "      <td>Lawrence Park</td>\n",
       "      <td>43.728020</td>\n",
       "      <td>-79.388790</td>\n",
       "    </tr>\n",
       "  </tbody>\n",
       "</table>\n",
       "</div>"
      ],
      "text/plain": [
       "  Postcode          Borough                  Neighbourhood   Latitude  \\\n",
       "0      M4E     East Toronto                    The Beaches  43.676357   \n",
       "1      M4K     East Toronto    The Danforth West,Riverdale  43.679557   \n",
       "2      M4L     East Toronto  The Beaches West,India Bazaar  43.668999   \n",
       "3      M4M     East Toronto                Studio District  43.659526   \n",
       "4      M4N  Central Toronto                  Lawrence Park  43.728020   \n",
       "\n",
       "   Longitude  \n",
       "0 -79.293031  \n",
       "1 -79.352188  \n",
       "2 -79.315572  \n",
       "3 -79.340923  \n",
       "4 -79.388790  "
      ]
     },
     "execution_count": 20,
     "metadata": {},
     "output_type": "execute_result"
    }
   ],
   "source": [
    "df_toronto=df_new[df_new[\"Borough\"].str.contains(\"Toronto\")].reset_index(drop=True)\n",
    "df_toronto.head()"
   ]
  },
  {
   "cell_type": "code",
   "execution_count": 21,
   "metadata": {},
   "outputs": [
    {
     "data": {
      "text/html": [
       "<div style=\"width:100%;\"><div style=\"position:relative;width:100%;height:0;padding-bottom:60%;\"><iframe src=\"about:blank\" style=\"position:absolute;width:100%;height:100%;left:0;top:0;border:none !important;\" data-html=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 onload=\"this.contentDocument.open();this.contentDocument.write(atob(this.getAttribute('data-html')));this.contentDocument.close();\" allowfullscreen webkitallowfullscreen mozallowfullscreen></iframe></div></div>"
      ],
      "text/plain": [
       "<folium.folium.Map at 0x7f2cfce23f60>"
      ]
     },
     "execution_count": 21,
     "metadata": {},
     "output_type": "execute_result"
    }
   ],
   "source": [
    "#Toronto latitude and longitude\n",
    "latitude=43.6\n",
    "longitude=-79.3\n",
    "map_toronto = folium.Map(location=[latitude, longitude], zoom_start=10)\n",
    "\n",
    "# add markers to map\n",
    "for lat, lng, borough, neighborhood in zip(df_toronto['Latitude'], df_toronto['Longitude'], df_toronto['Borough'], df_toronto['Neighbourhood']):\n",
    "    label = '{}, {}'.format(neighborhood, borough)\n",
    "    label = folium.Popup(label, parse_html=True)\n",
    "    folium.CircleMarker(\n",
    "        [lat, lng],\n",
    "        radius=5,\n",
    "        popup=label,\n",
    "        color='blue',\n",
    "        fill=True,\n",
    "        fill_color='#3186cc',\n",
    "        fill_opacity=0.7,\n",
    "        parse_html=False).add_to(map_toronto)  \n",
    "    \n",
    "map_toronto"
   ]
  },
  {
   "cell_type": "markdown",
   "metadata": {},
   "source": [
    "<h3> Define FourSquare Credentials in our Dataframe"
   ]
  },
  {
   "cell_type": "code",
   "execution_count": 22,
   "metadata": {},
   "outputs": [
    {
     "name": "stdout",
     "output_type": "stream",
     "text": [
      "Your credentails:\n",
      "CLIENT_ID: XBBTYWTYMYK0XHBDXYTUQ34PQ1HUBBE0LPMF3Z05W4PX0XCD\n",
      "CLIENT_SECRET:3NGRPBZAY2BFXJP0Y3OK22UIT4LPD0UTIM4DS5FOWPIWGO1F\n"
     ]
    }
   ],
   "source": [
    "CLIENT_ID = 'XBBTYWTYMYK0XHBDXYTUQ34PQ1HUBBE0LPMF3Z05W4PX0XCD' # your Foursquare ID\n",
    "CLIENT_SECRET = '3NGRPBZAY2BFXJP0Y3OK22UIT4LPD0UTIM4DS5FOWPIWGO1F' # your Foursquare Secret\n",
    "VERSION = '20180605' # Foursquare API version\n",
    "\n",
    "print('Your credentails:')\n",
    "print('CLIENT_ID: ' + CLIENT_ID)\n",
    "print('CLIENT_SECRET:' + CLIENT_SECRET)"
   ]
  },
  {
   "cell_type": "code",
   "execution_count": 23,
   "metadata": {},
   "outputs": [
    {
     "data": {
      "text/plain": [
       "'The Beaches'"
      ]
     },
     "execution_count": 23,
     "metadata": {},
     "output_type": "execute_result"
    }
   ],
   "source": [
    "df_toronto.loc[0,\"Neighbourhood\"]"
   ]
  },
  {
   "cell_type": "code",
   "execution_count": 25,
   "metadata": {},
   "outputs": [
    {
     "name": "stdout",
     "output_type": "stream",
     "text": [
      "Latitude and longitude values of The Beaches are 43.67635739999999, -79.2930312.\n"
     ]
    }
   ],
   "source": [
    "neighborhood_latitude = df_toronto.loc[0, 'Latitude'] # neighborhood latitude value\n",
    "neighborhood_longitude = df_toronto.loc[0, 'Longitude'] # neighborhood longitude value\n",
    "\n",
    "neighborhood_name = df_toronto.loc[0, 'Neighbourhood'] # neighborhood name\n",
    "\n",
    "print('Latitude and longitude values of {} are {}, {}.'.format(neighborhood_name, \n",
    "                                                               neighborhood_latitude, \n",
    "                                                               neighborhood_longitude))"
   ]
  },
  {
   "cell_type": "markdown",
   "metadata": {},
   "source": [
    "<h3>1. Now, let's get the top 100 venues that are in the beaches Marble Hill within a radius of 500 meters.</h3>"
   ]
  },
  {
   "cell_type": "code",
   "execution_count": 27,
   "metadata": {},
   "outputs": [
    {
     "data": {
      "text/plain": [
       "'https://api.foursquare.com/v2/venues/explore?&client_id=XBBTYWTYMYK0XHBDXYTUQ34PQ1HUBBE0LPMF3Z05W4PX0XCD&client_secret=3NGRPBZAY2BFXJP0Y3OK22UIT4LPD0UTIM4DS5FOWPIWGO1F&v=20180605&ll=43.67635739999999,-79.2930312&radius=500&limit=100'"
      ]
     },
     "execution_count": 27,
     "metadata": {},
     "output_type": "execute_result"
    }
   ],
   "source": [
    "LIMIT=100\n",
    "radius = 500\n",
    "url = 'https://api.foursquare.com/v2/venues/explore?&client_id={}&client_secret={}&v={}&ll={},{}&radius={}&limit={}'.format(\n",
    "    CLIENT_ID, \n",
    "    CLIENT_SECRET, \n",
    "    VERSION, \n",
    "    neighborhood_latitude, \n",
    "    neighborhood_longitude, \n",
    "    radius, \n",
    "    LIMIT)\n",
    "url"
   ]
  },
  {
   "cell_type": "code",
   "execution_count": 31,
   "metadata": {},
   "outputs": [],
   "source": [
    "results = requests.get(url).json()"
   ]
  },
  {
   "cell_type": "code",
   "execution_count": 32,
   "metadata": {},
   "outputs": [],
   "source": [
    "# function that extracts the category of the venue\n",
    "def get_category_type(row):\n",
    "    try:\n",
    "        categories_list = row['categories']\n",
    "    except:\n",
    "        categories_list = row['venue.categories']\n",
    "        \n",
    "    if len(categories_list) == 0:\n",
    "        return None\n",
    "    else:\n",
    "        return categories_list[0]['name']"
   ]
  },
  {
   "cell_type": "code",
   "execution_count": 35,
   "metadata": {},
   "outputs": [
    {
     "data": {
      "text/html": [
       "<div>\n",
       "<style scoped>\n",
       "    .dataframe tbody tr th:only-of-type {\n",
       "        vertical-align: middle;\n",
       "    }\n",
       "\n",
       "    .dataframe tbody tr th {\n",
       "        vertical-align: top;\n",
       "    }\n",
       "\n",
       "    .dataframe thead th {\n",
       "        text-align: right;\n",
       "    }\n",
       "</style>\n",
       "<table border=\"1\" class=\"dataframe\">\n",
       "  <thead>\n",
       "    <tr style=\"text-align: right;\">\n",
       "      <th></th>\n",
       "      <th>name</th>\n",
       "      <th>categories</th>\n",
       "      <th>lat</th>\n",
       "      <th>lng</th>\n",
       "    </tr>\n",
       "  </thead>\n",
       "  <tbody>\n",
       "    <tr>\n",
       "      <th>0</th>\n",
       "      <td>Glen Manor Ravine</td>\n",
       "      <td>Trail</td>\n",
       "      <td>43.676821</td>\n",
       "      <td>-79.293942</td>\n",
       "    </tr>\n",
       "    <tr>\n",
       "      <th>1</th>\n",
       "      <td>The Big Carrot Natural Food Market</td>\n",
       "      <td>Health Food Store</td>\n",
       "      <td>43.678879</td>\n",
       "      <td>-79.297734</td>\n",
       "    </tr>\n",
       "    <tr>\n",
       "      <th>2</th>\n",
       "      <td>Grover Pub and Grub</td>\n",
       "      <td>Pub</td>\n",
       "      <td>43.679181</td>\n",
       "      <td>-79.297215</td>\n",
       "    </tr>\n",
       "    <tr>\n",
       "      <th>3</th>\n",
       "      <td>Upper Beaches</td>\n",
       "      <td>Neighborhood</td>\n",
       "      <td>43.680563</td>\n",
       "      <td>-79.292869</td>\n",
       "    </tr>\n",
       "  </tbody>\n",
       "</table>\n",
       "</div>"
      ],
      "text/plain": [
       "                                 name         categories        lat        lng\n",
       "0                   Glen Manor Ravine              Trail  43.676821 -79.293942\n",
       "1  The Big Carrot Natural Food Market  Health Food Store  43.678879 -79.297734\n",
       "2                 Grover Pub and Grub                Pub  43.679181 -79.297215\n",
       "3                       Upper Beaches       Neighborhood  43.680563 -79.292869"
      ]
     },
     "execution_count": 35,
     "metadata": {},
     "output_type": "execute_result"
    }
   ],
   "source": [
    "venues = results['response']['groups'][0]['items']\n",
    "    \n",
    "nearby_venues = json_normalize(venues) # flatten JSON\n",
    "\n",
    "# filter columns\n",
    "filtered_columns = ['venue.name', 'venue.categories', 'venue.location.lat', 'venue.location.lng']\n",
    "nearby_venues =nearby_venues.loc[:, filtered_columns]\n",
    "\n",
    "# filter the category for each row\n",
    "nearby_venues['venue.categories'] = nearby_venues.apply(get_category_type, axis=1)\n",
    "\n",
    "# clean columns\n",
    "nearby_venues.columns = [col.split(\".\")[-1] for col in nearby_venues.columns]\n",
    "\n",
    "nearby_venues.head()"
   ]
  },
  {
   "cell_type": "code",
   "execution_count": 36,
   "metadata": {},
   "outputs": [
    {
     "name": "stdout",
     "output_type": "stream",
     "text": [
      "4 venues were returned by Foursquare.\n"
     ]
    }
   ],
   "source": [
    "print('{} venues were returned by Foursquare.'.format(nearby_venues.shape[0]))"
   ]
  },
  {
   "cell_type": "markdown",
   "metadata": {},
   "source": [
    "<h3>2. Explore Neighourhoods in the Beaches area"
   ]
  },
  {
   "cell_type": "code",
   "execution_count": 37,
   "metadata": {},
   "outputs": [],
   "source": [
    "def getNearbyVenues(names, latitudes, longitudes, radius=500):\n",
    "    \n",
    "    venues_list=[]\n",
    "    for name, lat, lng in zip(names, latitudes, longitudes):\n",
    "        print(name)\n",
    "            \n",
    "        # create the API request URL\n",
    "        url = 'https://api.foursquare.com/v2/venues/explore?&client_id={}&client_secret={}&v={}&ll={},{}&radius={}&limit={}'.format(\n",
    "            CLIENT_ID, \n",
    "            CLIENT_SECRET, \n",
    "            VERSION, \n",
    "            lat, \n",
    "            lng, \n",
    "            radius, \n",
    "            LIMIT)\n",
    "            \n",
    "        # make the GET request\n",
    "        results = requests.get(url).json()[\"response\"]['groups'][0]['items']\n",
    "        \n",
    "        # return only relevant information for each nearby venue\n",
    "        venues_list.append([(\n",
    "            name, \n",
    "            lat, \n",
    "            lng, \n",
    "            v['venue']['name'], \n",
    "            v['venue']['location']['lat'], \n",
    "            v['venue']['location']['lng'],  \n",
    "            v['venue']['categories'][0]['name']) for v in results])\n",
    "\n",
    "    nearby_venues = pd.DataFrame([item for venue_list in venues_list for item in venue_list])\n",
    "    nearby_venues.columns = ['Neighborhood', \n",
    "                  'Neighborhood Latitude', \n",
    "                  'Neighborhood Longitude', \n",
    "                  'Venue', \n",
    "                  'Venue Latitude', \n",
    "                  'Venue Longitude', \n",
    "                  'Venue Category']\n",
    "    \n",
    "    return(nearby_venues)"
   ]
  },
  {
   "cell_type": "code",
   "execution_count": 39,
   "metadata": {},
   "outputs": [
    {
     "name": "stdout",
     "output_type": "stream",
     "text": [
      "The Beaches\n",
      "The Danforth West,Riverdale\n",
      "The Beaches West,India Bazaar\n",
      "Studio District\n",
      "Lawrence Park\n",
      "Davisville North\n",
      "North Toronto West\n",
      "Davisville\n",
      "Moore Park,Summerhill East\n",
      "Deer Park,Forest Hill SE,Rathnelly,South Hill,Summerhill West\n",
      "Rosedale\n",
      "Cabbagetown,St. James Town\n",
      "Church and Wellesley\n",
      "Harbourfront\n",
      "Ryerson,Garden District\n",
      "St. James Town\n",
      "Berczy Park\n",
      "Central Bay Street\n",
      "Adelaide,King,Richmond\n",
      "Harbourfront East,Toronto Islands,Union Station\n",
      "Design Exchange,Toronto Dominion Centre\n",
      "Commerce Court,Victoria Hotel\n",
      "Roselawn\n",
      "Forest Hill North,Forest Hill West\n",
      "The Annex,North Midtown,Yorkville\n",
      "Harbord,University of Toronto\n",
      "Chinatown,Grange Park,Kensington Market\n",
      "CN Tower,Bathurst Quay,Island airport,Harbourfront West,King and Spadina,Railway Lands,South Niagara\n",
      "Stn A PO Boxes 25 The Esplanade\n",
      "First Canadian Place,Underground city\n",
      "Christie\n",
      "Dovercourt Village,Dufferin\n",
      "Little Portugal,Trinity\n",
      "Brockton,Exhibition Place,Parkdale Village\n",
      "High Park,The Junction South\n",
      "Parkdale,Roncesvalles\n",
      "Runnymede,Swansea\n",
      "Queen's Park\n",
      "Business Reply Mail Processing Centre 969 Eastern\n"
     ]
    }
   ],
   "source": [
    "# type your answer here\n",
    "\n",
    "toronto_venues = getNearbyVenues(names=df_toronto['Neighbourhood'],\n",
    "                                   latitudes=df_toronto['Latitude'],\n",
    "                                   longitudes=df_toronto['Longitude']\n",
    "                                  )\n",
    "\n"
   ]
  },
  {
   "cell_type": "code",
   "execution_count": 41,
   "metadata": {},
   "outputs": [
    {
     "name": "stdout",
     "output_type": "stream",
     "text": [
      "(1715, 7)\n",
      "                  Neighborhood  Neighborhood Latitude  Neighborhood Longitude  \\\n",
      "0                  The Beaches              43.676357              -79.293031   \n",
      "1                  The Beaches              43.676357              -79.293031   \n",
      "2                  The Beaches              43.676357              -79.293031   \n",
      "3                  The Beaches              43.676357              -79.293031   \n",
      "4  The Danforth West,Riverdale              43.679557              -79.352188   \n",
      "\n",
      "                                Venue  Venue Latitude  Venue Longitude  \\\n",
      "0                   Glen Manor Ravine       43.676821       -79.293942   \n",
      "1  The Big Carrot Natural Food Market       43.678879       -79.297734   \n",
      "2                 Grover Pub and Grub       43.679181       -79.297215   \n",
      "3                       Upper Beaches       43.680563       -79.292869   \n",
      "4                            Pantheon       43.677621       -79.351434   \n",
      "\n",
      "      Venue Category  \n",
      "0              Trail  \n",
      "1  Health Food Store  \n",
      "2                Pub  \n",
      "3       Neighborhood  \n",
      "4   Greek Restaurant  \n"
     ]
    }
   ],
   "source": [
    "print(toronto_venues.shape)\n",
    "print(toronto_venues.head())"
   ]
  },
  {
   "cell_type": "markdown",
   "metadata": {},
   "source": [
    "<h3> How many unique Categories are their from returned venues"
   ]
  },
  {
   "cell_type": "code",
   "execution_count": 42,
   "metadata": {},
   "outputs": [
    {
     "name": "stdout",
     "output_type": "stream",
     "text": [
      "There are 233 uniques categories.\n"
     ]
    }
   ],
   "source": [
    "print('There are {} uniques categories.'.format(len(toronto_venues['Venue Category'].unique())))"
   ]
  },
  {
   "cell_type": "code",
   "execution_count": null,
   "metadata": {},
   "outputs": [],
   "source": []
  }
 ],
 "metadata": {
  "kernelspec": {
   "display_name": "Python 3.6",
   "language": "python",
   "name": "python3"
  },
  "language_info": {
   "codemirror_mode": {
    "name": "ipython",
    "version": 3
   },
   "file_extension": ".py",
   "mimetype": "text/x-python",
   "name": "python",
   "nbconvert_exporter": "python",
   "pygments_lexer": "ipython3",
   "version": "3.6.9"
  }
 },
 "nbformat": 4,
 "nbformat_minor": 1
}
